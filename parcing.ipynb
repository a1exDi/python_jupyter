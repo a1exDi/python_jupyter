{
 "cells": [
  {
   "cell_type": "code",
   "execution_count": null,
   "metadata": {},
   "outputs": [],
   "source": [
    "import requests\n",
    "from bs4 import BeautifulSoup\n",
    "\n",
    "# URL вашего сайта\n",
    "url = 'https://www.balenciaga.com/en-us/to-my-love-t-shirt-medium-fit-black-764235TQVE41055.html'\n",
    "\n",
    "# Функция для загрузки HTML-страницы\n",
    "def get_html(url):\n",
    "    response = requests.get(url)\n",
    "    return response.text\n",
    "\n",
    "# Функция для извлечения цены с HTML-страницы\n",
    "def extract_price(html):\n",
    "    soup = BeautifulSoup(html, 'html.parser')\n",
    "    # Здесь вам нужно найти элемент с ценой на вашем сайте и извлечь ее\n",
    "    # Например:\n",
    "    price_element = soup.find('p', class_='c-price__value--current')\n",
    "    price = price_element.text.strip()\n",
    "    return price\n",
    "\n",
    "# Основная функция\n",
    "def main():\n",
    "    html = get_html(url)\n",
    "    price = extract_price(html)\n",
    "    print(\"Текущая цена товара:\", price)\n",
    "\n",
    "if __name__ == \"__main__\":\n",
    "    main()\n"
   ]
  }
 ],
 "metadata": {
  "kernelspec": {
   "display_name": "Python 3",
   "language": "python",
   "name": "python3"
  },
  "language_info": {
   "name": "python",
   "version": "3.11.4"
  }
 },
 "nbformat": 4,
 "nbformat_minor": 2
}
