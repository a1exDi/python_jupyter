{
 "cells": [
  {
   "cell_type": "markdown",
   "metadata": {},
   "source": [
    "#### Переменные\n",
    "Переменные предназначены для хранения данных. Название переменной в Python должно начинаться с алфавитного символа или со знака подчеркивания и может содержать алфавитно-цифровые символы и знак подчеркивания. \n",
    "\n",
    "Например, создадим переменную:\n"
   ]
  },
  {
   "cell_type": "code",
   "execution_count": 5,
   "metadata": {},
   "outputs": [
    {
     "name": "stdout",
     "output_type": "stream",
     "text": [
      "Алексей\n"
     ]
    }
   ],
   "source": [
    "name = \"Алексей\"\n",
    "print(name)"
   ]
  },
  {
   "cell_type": "markdown",
   "metadata": {},
   "source": [
    "Здесь определена переменная **name**, которая хранит строку **\"Алексей\"**.\n",
    "\n",
    "Переменная с большой буквы = константа\n",
    "THIS_CONST = \"Это не изменяемая переменная\""
   ]
  },
  {
   "cell_type": "markdown",
   "metadata": {},
   "source": [
    "----\n",
    "Всегда давайте переменным имена, которые имеют смысл и которые помогут понять, что хранится в переменной."
   ]
  },
  {
   "cell_type": "code",
   "execution_count": 4,
   "metadata": {},
   "outputs": [],
   "source": [
    "pet_name = \"Мурзик\" # ПРАВИЛЬНО\n",
    "zard_nem = \"Мурзик\" # НЕ ПРАВИЛЬНО\n",
    "\n",
    "my_age = 28 # ПРАВИЛЬНО\n",
    "mr28_e = 28 # НЕ ПРАВИЛЬНО"
   ]
  },
  {
   "cell_type": "code",
   "execution_count": 8,
   "metadata": {},
   "outputs": [
    {
     "name": "stdout",
     "output_type": "stream",
     "text": [
      "8.0\n",
      "128\n"
     ]
    }
   ],
   "source": [
    "import math\n",
    "print(math.log2(256))\n",
    "print(2**7)"
   ]
  }
 ],
 "metadata": {
  "interpreter": {
   "hash": "aee8b7b246df8f9039afb4144a1f6fd8d2ca17a180786b69acc140d282b71a49"
  },
  "kernelspec": {
   "display_name": "Python 3.10.0 64-bit",
   "language": "python",
   "name": "python3"
  },
  "language_info": {
   "codemirror_mode": {
    "name": "ipython",
    "version": 3
   },
   "file_extension": ".py",
   "mimetype": "text/x-python",
   "name": "python",
   "nbconvert_exporter": "python",
   "pygments_lexer": "ipython3",
   "version": "3.10.0"
  },
  "orig_nbformat": 4
 },
 "nbformat": 4,
 "nbformat_minor": 2
}
